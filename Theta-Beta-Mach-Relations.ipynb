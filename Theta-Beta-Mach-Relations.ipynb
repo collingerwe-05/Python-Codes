{
 "cells": [
  {
   "cell_type": "code",
   "execution_count": 6,
   "id": "a259b4df",
   "metadata": {},
   "outputs": [],
   "source": [
    "import numpy as np\n",
    "import matplotlib.pyplot as plt\n",
    "import functions as fn"
   ]
  },
  {
   "cell_type": "code",
   "execution_count": 7,
   "id": "a17abe48",
   "metadata": {},
   "outputs": [],
   "source": [
    "def fB(B): return (2/np.tan(B))*((M**2*((np.sin(B))**2)-1)/(M**2 * (1.4+np.cos(2*B))+2))-np.tan(T) #function for beta\n",
    "def fT(T): return (2/np.tan(B))*((M**2*((np.sin(B))**2)-1)/(M**2 * (1.4+np.cos(2*B))+2))-np.tan(T) #function for theta\n",
    "def fM(M): return (2/np.tan(B))*((M**2*((np.sin(B))**2)-1)/(M**2 * (1.4+np.cos(2*B))+2))-np.tan(T) #function for mach\n",
    "\n",
    "def dfT(T): return -1/(np.cos(T)**2) #derivative function for theta\n",
    "\n",
    "def dfB(B): return (4*M**2*(M**2*np.sin(B)**2-1)*np.sin(2*B))/(np.tan(B)*(M**2*(np.cos(2*B)+7/5)+2)**2)+\\\n",
    "                    (4*M**2*np.cos(B)*np.sin(B))/(np.tan(B)*(M**2*(np.cos(2*B)+7/5)+2))-(2*(1/np.cos(B))**2\\\n",
    "                    *(M**2*np.sin(B)**2-1))/(np.tan(B)**2*(M**2*(np.cos(2*B)+7/5)+2))                       #for theta\n",
    "\n",
    "def dfM(M): return (20*(5*np.cos(2*B)+10*np.sin(B)**2+7)*M)/(np.tan(B)*((5*np.cos(2*B)+7)*M**2+10)**2) #derivative \n",
    "                                                                                                       #function for mach\n"
   ]
  },
  {
   "cell_type": "code",
   "execution_count": null,
   "id": "8eaa0bd8",
   "metadata": {},
   "outputs": [],
   "source": [
    "repeat = 'yes'\n",
    "while repeat == 'yes': # allows repeat to show all cases (and for user friendliness)\n",
    "    case = input('What value are you trying to find? (theta, beta, mach): ') # user input for unknown variable\n",
    "    if case == 'beta': #unknown beta\n",
    "        T = float(input('Enter theta (degrees): '))\n",
    "        M = float(input('Enter mach number (Mach): '))\n",
    "        T = np.radians(T) #user input in degrees (more common than radians) changed to radians for code calculations\n",
    "        weakB = fn.newtonRaphson(fB,dfB,np.radians(1.),np.radians(60.)) #weaker shock beta\n",
    "        strongB = fn.newtonRaphson(fB,dfB,np.radians(60.),np.radians(90.)) #stronger shock beta\n",
    "        print('Beta is', np.degrees(weakB),'degrees or',np.degrees(strongB),'degrees at T =',np.degrees(T),'degrees and M =',M,'M\\n')\n",
    "    elif case == 'theta': #unknown theta\n",
    "        B = float(input('Enter beta (degrees): '))\n",
    "        M = float(input('Enter mach number (Mach): '))\n",
    "        B = np.radians(B)\n",
    "        theta = fn.newtonRaphson(fT, dfT,np.radians(1.),np.radians(90.))\n",
    "        print('Theta is', np.degrees(theta),'degrees at B =',np.degrees(B),'degrees and M =',M,'M\\n')\n",
    "    elif case == 'mach': #unknown mach\n",
    "        B = float(input('Enter beta (degrees): '))\n",
    "        T = float(input('Enter theta (degrees): '))\n",
    "        B = np.radians(B)\n",
    "        T = np.radians(T)\n",
    "        mach = fn.newtonRaphson(fM, dfM,1.,20.)\n",
    "        print('Mach is', mach,'at B =',np.degrees(B),'degrees and T =',np.degrees(T),'degrees\\n')\n",
    "    else: #invalid user input\n",
    "        print('Invalid entry, please try again (valid entries: theta, beta, mach)')\n",
    "    repeat = input('Would you like to run the program again? (yes or no): ') #allows user to rerun program\n"
   ]
  }
 ],
 "metadata": {
  "kernelspec": {
   "display_name": "Python 3 (ipykernel)",
   "language": "python",
   "name": "python3"
  },
  "language_info": {
   "codemirror_mode": {
    "name": "ipython",
    "version": 3
   },
   "file_extension": ".py",
   "mimetype": "text/x-python",
   "name": "python",
   "nbconvert_exporter": "python",
   "pygments_lexer": "ipython3",
   "version": "3.9.13"
  }
 },
 "nbformat": 4,
 "nbformat_minor": 5
}
